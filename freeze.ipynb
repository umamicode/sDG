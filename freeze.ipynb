{
 "cells": [
  {
   "cell_type": "code",
   "execution_count": 1,
   "id": "d01681a3-0b8b-43fb-aa57-34412cc502a7",
   "metadata": {},
   "outputs": [
    {
     "name": "stderr",
     "output_type": "stream",
     "text": [
      "/opt/anaconda3/envs/simclr/lib/python3.9/site-packages/tqdm/auto.py:22: TqdmWarning: IProgress not found. Please update jupyter and ipywidgets. See https://ipywidgets.readthedocs.io/en/stable/user_install.html\n",
      "  from .autonotebook import tqdm as notebook_tqdm\n"
     ]
    }
   ],
   "source": [
    "import torch\n",
    "import torch.nn as nn\n",
    "import torch.nn.functional as F\n",
    "from torch import optim\n",
    "from torch.utils.data import DataLoader, RandomSampler\n",
    "from torchvision import models\n",
    "from torchvision.datasets import CIFAR10\n",
    "from torchvision.utils import make_grid\n",
    "import torchvision.transforms as transforms\n",
    "from tensorboardX import SummaryWriter\n",
    "\n",
    "#[TODO]\n",
    "from network.modules import get_resnet, freeze_, unfreeze_\n",
    "from network.modules.transformations import TransformsRelic\n",
    "from network.modules.sync_batchnorm import convert_model\n",
    "\n",
    "\n",
    "import os\n",
    "import click\n",
    "import time\n",
    "import numpy as np\n",
    "import copy\n",
    "\n",
    "from con_losses import SupConLoss, ReLICLoss, BarlowTwinsLoss\n",
    "from network import mnist_net,res_net, generator\n",
    "import data_loader\n",
    "from main_base import evaluate\n",
    "\n",
    "import matplotlib.pyplot as plt\n",
    "\n",
    "\n",
    "HOME = os.environ['HOME']"
   ]
  },
  {
   "cell_type": "code",
   "execution_count": 4,
   "id": "c4a8735d-728d-4e19-9348-4542b3bfe80f",
   "metadata": {},
   "outputs": [],
   "source": [
    "backbone= 'resnet18'\n",
    "pretrained='True'\n",
    "ckpt=\"saved-model/cifar10/base_resnet18_True_128_run0/best.pkl\"\n",
    "projection_dim=128\n",
    "lr= 1e-3"
   ]
  },
  {
   "cell_type": "code",
   "execution_count": 5,
   "id": "f3bb1647-fe54-40af-9e51-ec771419e8a5",
   "metadata": {},
   "outputs": [],
   "source": [
    "encoder = get_resnet(backbone, pretrained) # Pretrained Backbone default as False - We will load our model anyway\n",
    "n_features = encoder.fc.in_features\n",
    "output_dim = 10 #{TODO}- output - cifar10\n",
    "src_net= res_net.ConvNet(encoder, projection_dim, n_features, output_dim).cuda() #projection_dim/ n_features/output_dim=10\n",
    "saved_weight = torch.load(ckpt)\n",
    "src_net.load_state_dict(saved_weight['cls_net'])\n",
    "src_opt = optim.Adam(src_net.parameters(), lr=lr)"
   ]
  },
  {
   "cell_type": "code",
   "execution_count": 6,
   "id": "20b8b83a-bb5d-4963-8bc4-521339798d6d",
   "metadata": {},
   "outputs": [],
   "source": [
    "src_net_copy= copy.deepcopy(src_net)"
   ]
  },
  {
   "cell_type": "code",
   "execution_count": 33,
   "id": "43af71f3-a267-4884-ae02-0e102902fa04",
   "metadata": {},
   "outputs": [
    {
     "data": {
      "text/plain": [
       "ConvNet(\n",
       "  (encoder): ResNet(\n",
       "    (conv1): Conv2d(3, 64, kernel_size=(7, 7), stride=(2, 2), padding=(3, 3), bias=False)\n",
       "    (bn1): BatchNorm2d(64, eps=1e-05, momentum=0.1, affine=True, track_running_stats=True)\n",
       "    (relu): ReLU(inplace=True)\n",
       "    (maxpool): MaxPool2d(kernel_size=3, stride=2, padding=1, dilation=1, ceil_mode=False)\n",
       "    (layer1): Sequential(\n",
       "      (0): BasicBlock(\n",
       "        (conv1): Conv2d(64, 64, kernel_size=(3, 3), stride=(1, 1), padding=(1, 1), bias=False)\n",
       "        (bn1): BatchNorm2d(64, eps=1e-05, momentum=0.1, affine=True, track_running_stats=True)\n",
       "        (relu): ReLU(inplace=True)\n",
       "        (conv2): Conv2d(64, 64, kernel_size=(3, 3), stride=(1, 1), padding=(1, 1), bias=False)\n",
       "        (bn2): BatchNorm2d(64, eps=1e-05, momentum=0.1, affine=True, track_running_stats=True)\n",
       "      )\n",
       "      (1): BasicBlock(\n",
       "        (conv1): Conv2d(64, 64, kernel_size=(3, 3), stride=(1, 1), padding=(1, 1), bias=False)\n",
       "        (bn1): BatchNorm2d(64, eps=1e-05, momentum=0.1, affine=True, track_running_stats=True)\n",
       "        (relu): ReLU(inplace=True)\n",
       "        (conv2): Conv2d(64, 64, kernel_size=(3, 3), stride=(1, 1), padding=(1, 1), bias=False)\n",
       "        (bn2): BatchNorm2d(64, eps=1e-05, momentum=0.1, affine=True, track_running_stats=True)\n",
       "      )\n",
       "    )\n",
       "    (layer2): Sequential(\n",
       "      (0): BasicBlock(\n",
       "        (conv1): Conv2d(64, 128, kernel_size=(3, 3), stride=(2, 2), padding=(1, 1), bias=False)\n",
       "        (bn1): BatchNorm2d(128, eps=1e-05, momentum=0.1, affine=True, track_running_stats=True)\n",
       "        (relu): ReLU(inplace=True)\n",
       "        (conv2): Conv2d(128, 128, kernel_size=(3, 3), stride=(1, 1), padding=(1, 1), bias=False)\n",
       "        (bn2): BatchNorm2d(128, eps=1e-05, momentum=0.1, affine=True, track_running_stats=True)\n",
       "        (downsample): Sequential(\n",
       "          (0): Conv2d(64, 128, kernel_size=(1, 1), stride=(2, 2), bias=False)\n",
       "          (1): BatchNorm2d(128, eps=1e-05, momentum=0.1, affine=True, track_running_stats=True)\n",
       "        )\n",
       "      )\n",
       "      (1): BasicBlock(\n",
       "        (conv1): Conv2d(128, 128, kernel_size=(3, 3), stride=(1, 1), padding=(1, 1), bias=False)\n",
       "        (bn1): BatchNorm2d(128, eps=1e-05, momentum=0.1, affine=True, track_running_stats=True)\n",
       "        (relu): ReLU(inplace=True)\n",
       "        (conv2): Conv2d(128, 128, kernel_size=(3, 3), stride=(1, 1), padding=(1, 1), bias=False)\n",
       "        (bn2): BatchNorm2d(128, eps=1e-05, momentum=0.1, affine=True, track_running_stats=True)\n",
       "      )\n",
       "    )\n",
       "    (layer3): Sequential(\n",
       "      (0): BasicBlock(\n",
       "        (conv1): Conv2d(128, 256, kernel_size=(3, 3), stride=(2, 2), padding=(1, 1), bias=False)\n",
       "        (bn1): BatchNorm2d(256, eps=1e-05, momentum=0.1, affine=True, track_running_stats=True)\n",
       "        (relu): ReLU(inplace=True)\n",
       "        (conv2): Conv2d(256, 256, kernel_size=(3, 3), stride=(1, 1), padding=(1, 1), bias=False)\n",
       "        (bn2): BatchNorm2d(256, eps=1e-05, momentum=0.1, affine=True, track_running_stats=True)\n",
       "        (downsample): Sequential(\n",
       "          (0): Conv2d(128, 256, kernel_size=(1, 1), stride=(2, 2), bias=False)\n",
       "          (1): BatchNorm2d(256, eps=1e-05, momentum=0.1, affine=True, track_running_stats=True)\n",
       "        )\n",
       "      )\n",
       "      (1): BasicBlock(\n",
       "        (conv1): Conv2d(256, 256, kernel_size=(3, 3), stride=(1, 1), padding=(1, 1), bias=False)\n",
       "        (bn1): BatchNorm2d(256, eps=1e-05, momentum=0.1, affine=True, track_running_stats=True)\n",
       "        (relu): ReLU(inplace=True)\n",
       "        (conv2): Conv2d(256, 256, kernel_size=(3, 3), stride=(1, 1), padding=(1, 1), bias=False)\n",
       "        (bn2): BatchNorm2d(256, eps=1e-05, momentum=0.1, affine=True, track_running_stats=True)\n",
       "      )\n",
       "    )\n",
       "    (layer4): Sequential(\n",
       "      (0): BasicBlock(\n",
       "        (conv1): Conv2d(256, 512, kernel_size=(3, 3), stride=(2, 2), padding=(1, 1), bias=False)\n",
       "        (bn1): BatchNorm2d(512, eps=1e-05, momentum=0.1, affine=True, track_running_stats=True)\n",
       "        (relu): ReLU(inplace=True)\n",
       "        (conv2): Conv2d(512, 512, kernel_size=(3, 3), stride=(1, 1), padding=(1, 1), bias=False)\n",
       "        (bn2): BatchNorm2d(512, eps=1e-05, momentum=0.1, affine=True, track_running_stats=True)\n",
       "        (downsample): Sequential(\n",
       "          (0): Conv2d(256, 512, kernel_size=(1, 1), stride=(2, 2), bias=False)\n",
       "          (1): BatchNorm2d(512, eps=1e-05, momentum=0.1, affine=True, track_running_stats=True)\n",
       "        )\n",
       "      )\n",
       "      (1): BasicBlock(\n",
       "        (conv1): Conv2d(512, 512, kernel_size=(3, 3), stride=(1, 1), padding=(1, 1), bias=False)\n",
       "        (bn1): BatchNorm2d(512, eps=1e-05, momentum=0.1, affine=True, track_running_stats=True)\n",
       "        (relu): ReLU(inplace=True)\n",
       "        (conv2): Conv2d(512, 512, kernel_size=(3, 3), stride=(1, 1), padding=(1, 1), bias=False)\n",
       "        (bn2): BatchNorm2d(512, eps=1e-05, momentum=0.1, affine=True, track_running_stats=True)\n",
       "      )\n",
       "    )\n",
       "    (avgpool): AdaptiveAvgPool2d(output_size=(1, 1))\n",
       "    (fc): Identity()\n",
       "  )\n",
       "  (cls_head_src): Linear(in_features=512, out_features=10, bias=True)\n",
       "  (cls_head_tgt): Linear(in_features=512, out_features=10, bias=True)\n",
       "  (pro_head): Sequential(\n",
       "    (0): Linear(in_features=512, out_features=128, bias=False)\n",
       "    (1): BatchNorm1d(128, eps=1e-05, momentum=0.1, affine=True, track_running_stats=True)\n",
       "    (2): ReLU()\n",
       "    (3): Linear(in_features=128, out_features=128, bias=False)\n",
       "    (4): BatchNorm1d(128, eps=1e-05, momentum=0.1, affine=True, track_running_stats=True)\n",
       "    (5): ReLU()\n",
       "    (6): Linear(in_features=128, out_features=128, bias=False)\n",
       "  )\n",
       ")"
      ]
     },
     "execution_count": 33,
     "metadata": {},
     "output_type": "execute_result"
    }
   ],
   "source": [
    "src_net_copy"
   ]
  },
  {
   "cell_type": "code",
   "execution_count": 34,
   "id": "dd425778-449d-44bb-9639-6e45bde358ba",
   "metadata": {},
   "outputs": [],
   "source": [
    "def freeze(freeze, model):\n",
    "    '''\n",
    "    Freeze a Model\n",
    "    --freeze (Which block to freeze --encoder/heads/all [str])\n",
    "    --model (which model to freeze [str])\n",
    "    '''\n",
    "    if freeze is not None:\n",
    "        if freeze == \"all\":\n",
    "            freeze_(model)\n",
    "        elif freeze == 'encoder':\n",
    "            freeze_(model.encoder)\n",
    "        elif freeze == 'heads':\n",
    "            freeze_(model.cls_head_src)\n",
    "            freeze_(model.cls_head_tgt)\n",
    "            freeze_(model.pro_head)\n",
    "        else:\n",
    "            raise ValueError(\"Please Freeze Either all/encoder/heads\")\n",
    "def unfreeze(unfreeze, model):\n",
    "    '''\n",
    "    Unfreeze a Model\n",
    "    --unfreeze (Which block to unfreeze --encoder/heads/all [str])\n",
    "    --model (which model to freeze [str])\n",
    "    '''\n",
    "    if unfreeze is not None:\n",
    "        if unfreeze == \"all\":\n",
    "            unfreeze_(model)\n",
    "        elif unfreeze == 'encoder':\n",
    "            unfreeze_(model.encoder)\n",
    "        elif unfreeze == 'heads':\n",
    "            unfreeze_(model.cls_head_src)\n",
    "            unfreeze_(model.cls_head_tgt)\n",
    "            unfreeze_(model.pro_head)\n",
    "        else:\n",
    "            raise ValueError(\"Please Unfreeze Either all/encoder/heads\")"
   ]
  },
  {
   "cell_type": "code",
   "execution_count": 53,
   "id": "86fc0a4e-d3e1-447b-83b1-ae80789bc688",
   "metadata": {},
   "outputs": [],
   "source": [
    "unfreeze(\"encoder\", src_net_copy)"
   ]
  },
  {
   "cell_type": "code",
   "execution_count": 54,
   "id": "52f4362e-9f97-46bb-a4f6-57652f873c0e",
   "metadata": {},
   "outputs": [
    {
     "data": {
      "text/plain": [
       "True"
      ]
     },
     "execution_count": 54,
     "metadata": {},
     "output_type": "execute_result"
    }
   ],
   "source": [
    "src_net_copy.encoder.layer1[0].conv1.weight.requires_grad"
   ]
  },
  {
   "cell_type": "code",
   "execution_count": 55,
   "id": "2ed8ac1a-d98d-446a-b793-b7e644db5933",
   "metadata": {},
   "outputs": [
    {
     "data": {
      "text/plain": [
       "True"
      ]
     },
     "execution_count": 55,
     "metadata": {},
     "output_type": "execute_result"
    }
   ],
   "source": [
    "src_net_copy.pro_head[0].weight.requires_grad"
   ]
  },
  {
   "cell_type": "code",
   "execution_count": 52,
   "id": "e9751057-4625-4493-afb8-6b765959cc0c",
   "metadata": {},
   "outputs": [
    {
     "data": {
      "text/plain": [
       "False"
      ]
     },
     "execution_count": 52,
     "metadata": {},
     "output_type": "execute_result"
    }
   ],
   "source": [
    "src_net_copy.encoder.layer1[0].bn1.weight.requires_grad"
   ]
  },
  {
   "cell_type": "code",
   "execution_count": null,
   "id": "c05dd699-4169-4352-be25-c9a8eff09dc8",
   "metadata": {},
   "outputs": [],
   "source": []
  }
 ],
 "metadata": {
  "kernelspec": {
   "display_name": "Python 3",
   "language": "python",
   "name": "python3"
  },
  "language_info": {
   "codemirror_mode": {
    "name": "ipython",
    "version": 3
   },
   "file_extension": ".py",
   "mimetype": "text/x-python",
   "name": "python",
   "nbconvert_exporter": "python",
   "pygments_lexer": "ipython3",
   "version": "3.9.13"
  }
 },
 "nbformat": 4,
 "nbformat_minor": 5
}
